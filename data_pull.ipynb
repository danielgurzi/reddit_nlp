{
 "cells": [
  {
   "cell_type": "code",
   "execution_count": 20,
   "metadata": {},
   "outputs": [],
   "source": [
    "import requests\n",
    "import pandas as pd"
   ]
  },
  {
   "cell_type": "code",
   "execution_count": 21,
   "metadata": {},
   "outputs": [],
   "source": [
    "# posts are called submissions. TO get those, use this tail on the url\n",
    "url = 'https://api.pushshift.io/reddit/search/submission'"
   ]
  },
  {
   "cell_type": "code",
   "execution_count": 74,
   "metadata": {},
   "outputs": [
    {
     "data": {
      "text/plain": [
       "200"
      ]
     },
     "execution_count": 74,
     "metadata": {},
     "output_type": "execute_result"
    }
   ],
   "source": [
    "# set parameters to get each group of subreddit posts\n",
    "params1 = {\n",
    "    'subreddit' : 'personalfinance',\n",
    "    'size' : 500, # 25 is the default, can go up to 500\n",
    "#     'after' : 1590028166,\n",
    "}\n",
    "res = requests.get(url, params1)\n",
    "res.status_code"
   ]
  },
  {
   "cell_type": "code",
   "execution_count": 75,
   "metadata": {},
   "outputs": [],
   "source": [
    "sub1a = res.json()['data']"
   ]
  },
  {
   "cell_type": "code",
   "execution_count": 77,
   "metadata": {},
   "outputs": [],
   "source": [
    "# set parameters to get each group of subreddit posts\n",
    "params2 = {\n",
    "    'subreddit' : 'personalfinance',\n",
    "    'size' : 500, # 25 is the default, can go up to 500\n",
    "    'before' : 1590465592,\n",
    "}\n",
    "res = requests.get(url, params2)\n",
    "sub1b = res.json()['data']"
   ]
  },
  {
   "cell_type": "code",
   "execution_count": 79,
   "metadata": {},
   "outputs": [],
   "source": [
    "# set parameters to get each group of subreddit posts\n",
    "params3 = {\n",
    "    'subreddit' : 'personalfinance',\n",
    "    'size' : 500, # 25 is the default, can go up to 500\n",
    "    'before' : 1590362911,\n",
    "}\n",
    "res = requests.get(url, params3)\n",
    "sub1c = res.json()['data']"
   ]
  },
  {
   "cell_type": "code",
   "execution_count": 82,
   "metadata": {},
   "outputs": [],
   "source": [
    "# set parameters to get each group of subreddit posts\n",
    "params4 = {\n",
    "    'subreddit' : 'personalfinance',\n",
    "    'size' : 500, # 25 is the default, can go up to 500\n",
    "    'before' : 1590257599,\n",
    "}\n",
    "res = requests.get(url, params4)\n",
    "sub1d = res.json()['data']"
   ]
  },
  {
   "cell_type": "code",
   "execution_count": 84,
   "metadata": {},
   "outputs": [],
   "source": [
    "# set parameters to get each group of subreddit posts\n",
    "params5 = {\n",
    "    'subreddit' : 'personalfinance',\n",
    "    'size' : 500, # 25 is the default, can go up to 500\n",
    "    'before' : 1590166194,\n",
    "}\n",
    "res = requests.get(url, params5)\n",
    "sub1e = res.json()['data']"
   ]
  },
  {
   "cell_type": "code",
   "execution_count": 87,
   "metadata": {},
   "outputs": [],
   "source": [
    "# set parameters to get each group of subreddit posts\n",
    "params6 = {\n",
    "    'subreddit' : 'personalfinance',\n",
    "    'size' : 500, # 25 is the default, can go up to 500\n",
    "    'before' : 1590081375,\n",
    "}\n",
    "res = requests.get(url, params6)\n",
    "sub1f = res.json()['data']"
   ]
  },
  {
   "cell_type": "code",
   "execution_count": 55,
   "metadata": {},
   "outputs": [],
   "source": [
    "# set parameters to get each group of subreddit posts\n",
    "paramsa = {\n",
    "    'subreddit' : 'investing',\n",
    "    'size' : 500, # 25 is the default, can go up to 500\n",
    "    'before' : 1590465267,\n",
    "}\n",
    "res = requests.get(url, paramsa)\n",
    "sub2a = res.json()['data']"
   ]
  },
  {
   "cell_type": "code",
   "execution_count": 58,
   "metadata": {},
   "outputs": [],
   "source": [
    "# set parameters to get each group of subreddit posts\n",
    "paramsb = {\n",
    "    'subreddit' : 'investing',\n",
    "    'size' : 500, # 25 is the default, can go up to 500\n",
    "    'before' : 1590152558,\n",
    "}\n",
    "res = requests.get(url, paramsb)\n",
    "sub2b = res.json()['data']"
   ]
  },
  {
   "cell_type": "code",
   "execution_count": 60,
   "metadata": {},
   "outputs": [],
   "source": [
    "# set parameters to get each group of subreddit posts\n",
    "paramsc = {\n",
    "    'subreddit' : 'investing',\n",
    "    'size' : 500, # 25 is the default, can go up to 500\n",
    "    'before' : 1589910000,\n",
    "}\n",
    "res = requests.get(url, paramsc)\n",
    "sub2c = res.json()['data']"
   ]
  },
  {
   "cell_type": "code",
   "execution_count": 62,
   "metadata": {},
   "outputs": [],
   "source": [
    "# set parameters to get each group of subreddit posts\n",
    "paramsd = {\n",
    "    'subreddit' : 'investing',\n",
    "    'size' : 500, # 25 is the default, can go up to 500\n",
    "    'before' : 1589646971,\n",
    "}\n",
    "res = requests.get(url, paramsd)\n",
    "sub2d = res.json()['data']"
   ]
  },
  {
   "cell_type": "code",
   "execution_count": 67,
   "metadata": {},
   "outputs": [],
   "source": [
    "# set parameters to get each group of subreddit posts\n",
    "paramse = {\n",
    "    'subreddit' : 'investing',\n",
    "    'size' : 500, # 25 is the default, can go up to 500\n",
    "    'before' : 1589392248,\n",
    "}\n",
    "res = requests.get(url, paramse)\n",
    "sub2e = res.json()['data']"
   ]
  },
  {
   "cell_type": "code",
   "execution_count": 70,
   "metadata": {},
   "outputs": [],
   "source": [
    "# set parameters to get each group of subreddit posts\n",
    "paramsf = {\n",
    "    'subreddit' : 'investing',\n",
    "    'size' : 500, # 25 is the default, can go up to 500\n",
    "    'before' : 1589149907,\n",
    "}\n",
    "res = requests.get(url, paramsf)\n",
    "sub2f = res.json()['data']"
   ]
  },
  {
   "cell_type": "code",
   "execution_count": 88,
   "metadata": {},
   "outputs": [],
   "source": [
    "# join the above data pulls together in a dataframe\n",
    "df = pd.DataFrame(sub1a + sub1b + sub1c + sub1d + sub1e + sub1f + \n",
    "                  sub2a + sub2b + sub2c + sub2d + sub2e + sub2f)\n",
    "df = df[['subreddit','selftext','title']]"
   ]
  },
  {
   "cell_type": "code",
   "execution_count": 89,
   "metadata": {},
   "outputs": [
    {
     "data": {
      "text/html": [
       "<div>\n",
       "<style scoped>\n",
       "    .dataframe tbody tr th:only-of-type {\n",
       "        vertical-align: middle;\n",
       "    }\n",
       "\n",
       "    .dataframe tbody tr th {\n",
       "        vertical-align: top;\n",
       "    }\n",
       "\n",
       "    .dataframe thead th {\n",
       "        text-align: right;\n",
       "    }\n",
       "</style>\n",
       "<table border=\"1\" class=\"dataframe\">\n",
       "  <thead>\n",
       "    <tr style=\"text-align: right;\">\n",
       "      <th></th>\n",
       "      <th>subreddit</th>\n",
       "      <th>selftext</th>\n",
       "      <th>title</th>\n",
       "    </tr>\n",
       "  </thead>\n",
       "  <tbody>\n",
       "    <tr>\n",
       "      <th>0</th>\n",
       "      <td>personalfinance</td>\n",
       "      <td>My gf's father supposedly had a life insuranc...</td>\n",
       "      <td>How do I find unclaimed life insurance money?</td>\n",
       "    </tr>\n",
       "    <tr>\n",
       "      <th>1</th>\n",
       "      <td>personalfinance</td>\n",
       "      <td>Does anyone know with the cares act if I would...</td>\n",
       "      <td>401k withdrawal to invest in an IRA</td>\n",
       "    </tr>\n",
       "    <tr>\n",
       "      <th>2</th>\n",
       "      <td>personalfinance</td>\n",
       "      <td>So my best friend would like to give me 100k t...</td>\n",
       "      <td>Best friend wants to give me money to put into...</td>\n",
       "    </tr>\n",
       "    <tr>\n",
       "      <th>3</th>\n",
       "      <td>personalfinance</td>\n",
       "      <td>I’m a 28 year old male. I’m a new homeowner (i...</td>\n",
       "      <td>Should I take advantage of the no penalty opti...</td>\n",
       "    </tr>\n",
       "    <tr>\n",
       "      <th>4</th>\n",
       "      <td>personalfinance</td>\n",
       "      <td>Hi all. Im a frequent user on the popular \"sel...</td>\n",
       "      <td>Am I Falling for a scam on LetGo?</td>\n",
       "    </tr>\n",
       "    <tr>\n",
       "      <th>...</th>\n",
       "      <td>...</td>\n",
       "      <td>...</td>\n",
       "      <td>...</td>\n",
       "    </tr>\n",
       "    <tr>\n",
       "      <th>5995</th>\n",
       "      <td>investing</td>\n",
       "      <td>I purchased one hundred shares of cplp a coupl...</td>\n",
       "      <td>Capitol Product (CPLP) Outlook</td>\n",
       "    </tr>\n",
       "    <tr>\n",
       "      <th>5996</th>\n",
       "      <td>investing</td>\n",
       "      <td>I’m looking for some perspectives and thoughts...</td>\n",
       "      <td>Tips and Advice on UVXY?</td>\n",
       "    </tr>\n",
       "    <tr>\n",
       "      <th>5997</th>\n",
       "      <td>investing</td>\n",
       "      <td>[removed]</td>\n",
       "      <td>How much backdoor RothIRA can you contribute?</td>\n",
       "    </tr>\n",
       "    <tr>\n",
       "      <th>5998</th>\n",
       "      <td>investing</td>\n",
       "      <td>I've tried Googling it, but I'm curious if any...</td>\n",
       "      <td>What does the average year of the stock market...</td>\n",
       "    </tr>\n",
       "    <tr>\n",
       "      <th>5999</th>\n",
       "      <td>investing</td>\n",
       "      <td></td>\n",
       "      <td>Why does Procter &amp;amp; Gamble stock keep going...</td>\n",
       "    </tr>\n",
       "  </tbody>\n",
       "</table>\n",
       "<p>6000 rows × 3 columns</p>\n",
       "</div>"
      ],
      "text/plain": [
       "            subreddit                                           selftext  \\\n",
       "0     personalfinance   My gf's father supposedly had a life insuranc...   \n",
       "1     personalfinance  Does anyone know with the cares act if I would...   \n",
       "2     personalfinance  So my best friend would like to give me 100k t...   \n",
       "3     personalfinance  I’m a 28 year old male. I’m a new homeowner (i...   \n",
       "4     personalfinance  Hi all. Im a frequent user on the popular \"sel...   \n",
       "...               ...                                                ...   \n",
       "5995        investing  I purchased one hundred shares of cplp a coupl...   \n",
       "5996        investing  I’m looking for some perspectives and thoughts...   \n",
       "5997        investing                                          [removed]   \n",
       "5998        investing  I've tried Googling it, but I'm curious if any...   \n",
       "5999        investing                                                      \n",
       "\n",
       "                                                  title  \n",
       "0         How do I find unclaimed life insurance money?  \n",
       "1                   401k withdrawal to invest in an IRA  \n",
       "2     Best friend wants to give me money to put into...  \n",
       "3     Should I take advantage of the no penalty opti...  \n",
       "4                     Am I Falling for a scam on LetGo?  \n",
       "...                                                 ...  \n",
       "5995                     Capitol Product (CPLP) Outlook  \n",
       "5996                           Tips and Advice on UVXY?  \n",
       "5997      How much backdoor RothIRA can you contribute?  \n",
       "5998  What does the average year of the stock market...  \n",
       "5999  Why does Procter &amp; Gamble stock keep going...  \n",
       "\n",
       "[6000 rows x 3 columns]"
      ]
     },
     "execution_count": 89,
     "metadata": {},
     "output_type": "execute_result"
    }
   ],
   "source": [
    "# and check it out\n",
    "df"
   ]
  },
  {
   "cell_type": "code",
   "execution_count": 91,
   "metadata": {},
   "outputs": [],
   "source": [
    "# save the dataframe to a csv to use in the next python notebook for modeling\n",
    "df.to_csv('./data/data.csv', index=False)"
   ]
  }
 ],
 "metadata": {
  "kernelspec": {
   "display_name": "Python 3",
   "language": "python",
   "name": "python3"
  },
  "language_info": {
   "codemirror_mode": {
    "name": "ipython",
    "version": 3
   },
   "file_extension": ".py",
   "mimetype": "text/x-python",
   "name": "python",
   "nbconvert_exporter": "python",
   "pygments_lexer": "ipython3",
   "version": "3.7.7"
  }
 },
 "nbformat": 4,
 "nbformat_minor": 4
}
