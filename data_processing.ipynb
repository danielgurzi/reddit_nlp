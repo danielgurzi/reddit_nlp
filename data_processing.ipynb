{
 "cells": [
  {
   "cell_type": "markdown",
   "metadata": {},
   "source": [
    "## Import Data and Libraries\n"
   ]
  },
  {
   "cell_type": "code",
   "execution_count": 80,
   "metadata": {},
   "outputs": [],
   "source": [
    "import pandas as pd\n",
    "import numpy as np\n",
    "import matplotlib.pyplot as plt\n",
    "import seaborn as sns\n",
    "from nltk.stem import WordNetLemmatizer\n",
    "from nltk import word_tokenize      \n",
    "from nltk.stem.porter import PorterStemmer\n",
    "from sklearn.feature_extraction import text\n",
    "from nltk.tokenize import RegexpTokenizer\n",
    "from sklearn.model_selection import train_test_split, GridSearchCV, cross_val_score\n",
    "from sklearn.pipeline import Pipeline\n",
    "from sklearn.linear_model import LogisticRegression\n",
    "from sklearn.feature_extraction.text import CountVectorizer, TfidfVectorizer\n",
    "from sklearn.metrics import confusion_matrix, plot_confusion_matrix, ConfusionMatrixDisplay\n",
    "from sklearn.naive_bayes import MultinomialNB\n"
   ]
  },
  {
   "cell_type": "code",
   "execution_count": 3,
   "metadata": {},
   "outputs": [],
   "source": [
    "# bring in dataset from data folder in git\n",
    "df = pd.read_csv('./data/data.csv')"
   ]
  },
  {
   "cell_type": "code",
   "execution_count": 4,
   "metadata": {},
   "outputs": [
    {
     "data": {
      "text/html": [
       "<div>\n",
       "<style scoped>\n",
       "    .dataframe tbody tr th:only-of-type {\n",
       "        vertical-align: middle;\n",
       "    }\n",
       "\n",
       "    .dataframe tbody tr th {\n",
       "        vertical-align: top;\n",
       "    }\n",
       "\n",
       "    .dataframe thead th {\n",
       "        text-align: right;\n",
       "    }\n",
       "</style>\n",
       "<table border=\"1\" class=\"dataframe\">\n",
       "  <thead>\n",
       "    <tr style=\"text-align: right;\">\n",
       "      <th></th>\n",
       "      <th>subreddit</th>\n",
       "      <th>selftext</th>\n",
       "      <th>title</th>\n",
       "    </tr>\n",
       "  </thead>\n",
       "  <tbody>\n",
       "    <tr>\n",
       "      <th>0</th>\n",
       "      <td>personalfinance</td>\n",
       "      <td>My gf's father supposedly had a life insuranc...</td>\n",
       "      <td>How do I find unclaimed life insurance money?</td>\n",
       "    </tr>\n",
       "    <tr>\n",
       "      <th>1</th>\n",
       "      <td>personalfinance</td>\n",
       "      <td>Does anyone know with the cares act if I would...</td>\n",
       "      <td>401k withdrawal to invest in an IRA</td>\n",
       "    </tr>\n",
       "    <tr>\n",
       "      <th>2</th>\n",
       "      <td>personalfinance</td>\n",
       "      <td>So my best friend would like to give me 100k t...</td>\n",
       "      <td>Best friend wants to give me money to put into...</td>\n",
       "    </tr>\n",
       "    <tr>\n",
       "      <th>3</th>\n",
       "      <td>personalfinance</td>\n",
       "      <td>I’m a 28 year old male. I’m a new homeowner (i...</td>\n",
       "      <td>Should I take advantage of the no penalty opti...</td>\n",
       "    </tr>\n",
       "    <tr>\n",
       "      <th>4</th>\n",
       "      <td>personalfinance</td>\n",
       "      <td>Hi all. Im a frequent user on the popular \"sel...</td>\n",
       "      <td>Am I Falling for a scam on LetGo?</td>\n",
       "    </tr>\n",
       "  </tbody>\n",
       "</table>\n",
       "</div>"
      ],
      "text/plain": [
       "         subreddit                                           selftext  \\\n",
       "0  personalfinance   My gf's father supposedly had a life insuranc...   \n",
       "1  personalfinance  Does anyone know with the cares act if I would...   \n",
       "2  personalfinance  So my best friend would like to give me 100k t...   \n",
       "3  personalfinance  I’m a 28 year old male. I’m a new homeowner (i...   \n",
       "4  personalfinance  Hi all. Im a frequent user on the popular \"sel...   \n",
       "\n",
       "                                               title  \n",
       "0      How do I find unclaimed life insurance money?  \n",
       "1                401k withdrawal to invest in an IRA  \n",
       "2  Best friend wants to give me money to put into...  \n",
       "3  Should I take advantage of the no penalty opti...  \n",
       "4                  Am I Falling for a scam on LetGo?  "
      ]
     },
     "execution_count": 4,
     "metadata": {},
     "output_type": "execute_result"
    }
   ],
   "source": [
    "# Display first 5 rows of Dataframe to make sure it came through correctly\n",
    "df.head()"
   ]
  },
  {
   "cell_type": "code",
   "execution_count": 5,
   "metadata": {},
   "outputs": [],
   "source": [
    "# Replace rows that that have [removed] in the selftext with NaN so we can drop it easily\n",
    "df['selftext'] = np.where(df['selftext'] == '[removed]',np.nan,df['selftext'])"
   ]
  },
  {
   "cell_type": "code",
   "execution_count": 6,
   "metadata": {},
   "outputs": [],
   "source": [
    "# Drop all rows with no text information in the post\n",
    "df.dropna(inplace=True)"
   ]
  },
  {
   "cell_type": "code",
   "execution_count": 7,
   "metadata": {},
   "outputs": [
    {
     "data": {
      "text/plain": [
       "(4924, 3)"
      ]
     },
     "execution_count": 7,
     "metadata": {},
     "output_type": "execute_result"
    }
   ],
   "source": [
    "# started with 6000 rows. Let's see where we are now.\n",
    "df.shape"
   ]
  },
  {
   "cell_type": "markdown",
   "metadata": {},
   "source": [
    "Run a Lemmatizer to test on dataframe. "
   ]
  },
  {
   "cell_type": "code",
   "execution_count": 8,
   "metadata": {},
   "outputs": [],
   "source": [
    "#Import and instantiate Lemmatizer\n",
    "# from nltk.stem import WordNetLemmatizer\n",
    "\n",
    "\n",
    "# lemmatizer = WordNetLemmatizer()\n",
    "\n",
    "# def lemma(text):\n",
    "#     return ' '.join([lemmatizer.lemmatize(w) for w in text.split()])\n",
    "\n",
    "# df['selftext'] = df['selftext'].apply(lemma)"
   ]
  },
  {
   "cell_type": "markdown",
   "metadata": {},
   "source": [
    "Lemmatizer made model more overfit, so I have coded it out. "
   ]
  },
  {
   "cell_type": "code",
   "execution_count": 9,
   "metadata": {},
   "outputs": [
    {
     "data": {
      "text/plain": [
       "(2522, 3)"
      ]
     },
     "execution_count": 9,
     "metadata": {},
     "output_type": "execute_result"
    }
   ],
   "source": [
    "# create a dataframe just for our first subreddit so we can pull popular words from this list separate from the other\n",
    "df_sub1 = df[df['subreddit'] == 'personalfinance']\n",
    "df_sub1.shape"
   ]
  },
  {
   "cell_type": "code",
   "execution_count": 10,
   "metadata": {},
   "outputs": [
    {
     "data": {
      "text/plain": [
       "(2402, 3)"
      ]
     },
     "execution_count": 10,
     "metadata": {},
     "output_type": "execute_result"
    }
   ],
   "source": [
    "# create a dataframe just for our second subreddit so we can pull popular words from this list separate from the other\n",
    "df_sub2 = df[df['subreddit'] == 'investing']\n",
    "df_sub2.shape"
   ]
  },
  {
   "cell_type": "markdown",
   "metadata": {},
   "source": [
    "# Data Processing"
   ]
  },
  {
   "cell_type": "code",
   "execution_count": 11,
   "metadata": {},
   "outputs": [],
   "source": [
    "# set y as predict column, and X to text from site\n",
    "X = df['selftext']\n",
    "y = df['subreddit']"
   ]
  },
  {
   "cell_type": "code",
   "execution_count": 12,
   "metadata": {},
   "outputs": [
    {
     "data": {
      "text/plain": [
       "personalfinance    0.512185\n",
       "investing          0.487815\n",
       "Name: subreddit, dtype: float64"
      ]
     },
     "execution_count": 12,
     "metadata": {},
     "output_type": "execute_result"
    }
   ],
   "source": [
    "# check to see the balance of the predicted class\n",
    "y.value_counts(normalize=True)"
   ]
  },
  {
   "cell_type": "code",
   "execution_count": 13,
   "metadata": {},
   "outputs": [],
   "source": [
    "# Set our Training and Testing Data Sets\n",
    "X_train,X_test,y_train,y_test = train_test_split(X,y,random_state=42, stratify=y)"
   ]
  },
  {
   "cell_type": "code",
   "execution_count": 14,
   "metadata": {},
   "outputs": [],
   "source": [
    "# Put together a stop list to toggle if we need it\n",
    "stop_list = ['https','com','about','all','am','from','how','like','me','there','was','wa','www','an','ha']"
   ]
  },
  {
   "cell_type": "markdown",
   "metadata": {},
   "source": [
    "# CountVectorizer Pipeline"
   ]
  },
  {
   "cell_type": "code",
   "execution_count": 61,
   "metadata": {},
   "outputs": [],
   "source": [
    "# Initialize a pipe with CountVectorizer & LogisticRegression\n",
    "pipe1 = Pipeline([\n",
    "    ('cvec' , CountVectorizer()),\n",
    "    ('lr' , LogisticRegression(solver='liblinear'))\n",
    "])"
   ]
  },
  {
   "cell_type": "code",
   "execution_count": 66,
   "metadata": {},
   "outputs": [],
   "source": [
    "# Set hyperparameters for pipeline\n",
    "pipe1_params = {\n",
    "#     'cvec__stop_words' : stop_list,\n",
    "    'cvec__max_features' : [3500, 4000, 4500, 5000],\n",
    "    'cvec__min_df' : [2],\n",
    "    'cvec__max_df' : [.7, .8, .85],\n",
    "    'cvec__ngram_range' : [(1, 2), (1, 3)],\n",
    "    'lr__C' : [1.0,.9,.8]\n",
    "}"
   ]
  },
  {
   "cell_type": "code",
   "execution_count": 67,
   "metadata": {},
   "outputs": [],
   "source": [
    "# Instantiate GridSearchCV for 1st Pipe.\n",
    "\n",
    "gs1 = GridSearchCV(pipe1, \n",
    "                  pipe1_params, \n",
    "                  cv = 5\n",
    "                 ) "
   ]
  },
  {
   "cell_type": "code",
   "execution_count": 68,
   "metadata": {},
   "outputs": [
    {
     "data": {
      "text/plain": [
       "GridSearchCV(cv=5, error_score=nan,\n",
       "             estimator=Pipeline(memory=None,\n",
       "                                steps=[('cvec',\n",
       "                                        CountVectorizer(analyzer='word',\n",
       "                                                        binary=False,\n",
       "                                                        decode_error='strict',\n",
       "                                                        dtype=<class 'numpy.int64'>,\n",
       "                                                        encoding='utf-8',\n",
       "                                                        input='content',\n",
       "                                                        lowercase=True,\n",
       "                                                        max_df=1.0,\n",
       "                                                        max_features=None,\n",
       "                                                        min_df=1,\n",
       "                                                        ngram_range=(1, 1),\n",
       "                                                        preprocessor=None,\n",
       "                                                        stop_words=None,\n",
       "                                                        strip_accents=None,\n",
       "                                                        token_pattern='(?u)...\n",
       "                                                           random_state=None,\n",
       "                                                           solver='liblinear',\n",
       "                                                           tol=0.0001,\n",
       "                                                           verbose=0,\n",
       "                                                           warm_start=False))],\n",
       "                                verbose=False),\n",
       "             iid='deprecated', n_jobs=None,\n",
       "             param_grid={'cvec__max_df': [0.7, 0.8, 0.85],\n",
       "                         'cvec__max_features': [3500, 4000, 4500, 5000],\n",
       "                         'cvec__min_df': [2],\n",
       "                         'cvec__ngram_range': [(1, 2), (1, 3)],\n",
       "                         'lr__C': [1.0, 0.9, 0.8]},\n",
       "             pre_dispatch='2*n_jobs', refit=True, return_train_score=False,\n",
       "             scoring=None, verbose=0)"
      ]
     },
     "execution_count": 68,
     "metadata": {},
     "output_type": "execute_result"
    }
   ],
   "source": [
    "# Fit GridSearch to training data.\n",
    "gs1.fit(X_train,y_train)"
   ]
  },
  {
   "cell_type": "code",
   "execution_count": 19,
   "metadata": {},
   "outputs": [
    {
     "data": {
      "text/plain": [
       "0.890607684155326"
      ]
     },
     "execution_count": 19,
     "metadata": {},
     "output_type": "execute_result"
    }
   ],
   "source": [
    "# Find our best score\n",
    "gs1.best_score_"
   ]
  },
  {
   "cell_type": "code",
   "execution_count": 20,
   "metadata": {},
   "outputs": [
    {
     "data": {
      "text/plain": [
       "Pipeline(memory=None,\n",
       "         steps=[('cvec',\n",
       "                 CountVectorizer(analyzer='word', binary=False,\n",
       "                                 decode_error='strict',\n",
       "                                 dtype=<class 'numpy.int64'>, encoding='utf-8',\n",
       "                                 input='content', lowercase=True, max_df=0.7,\n",
       "                                 max_features=5000, min_df=2,\n",
       "                                 ngram_range=(1, 3), preprocessor=None,\n",
       "                                 stop_words=None, strip_accents=None,\n",
       "                                 token_pattern='(?u)\\\\b\\\\w\\\\w+\\\\b',\n",
       "                                 tokenizer=None, vocabulary=None)),\n",
       "                ('lr',\n",
       "                 LogisticRegression(C=1.0, class_weight=None, dual=False,\n",
       "                                    fit_intercept=True, intercept_scaling=1,\n",
       "                                    l1_ratio=None, max_iter=100,\n",
       "                                    multi_class='auto', n_jobs=None,\n",
       "                                    penalty='l2', random_state=None,\n",
       "                                    solver='liblinear', tol=0.0001, verbose=0,\n",
       "                                    warm_start=False))],\n",
       "         verbose=False)"
      ]
     },
     "execution_count": 20,
     "metadata": {},
     "output_type": "execute_result"
    }
   ],
   "source": [
    "# find our best estimator\n",
    "gs1.best_estimator_"
   ]
  },
  {
   "cell_type": "code",
   "execution_count": 21,
   "metadata": {},
   "outputs": [
    {
     "data": {
      "text/plain": [
       "{'cvec__max_df': 0.7,\n",
       " 'cvec__max_features': 5000,\n",
       " 'cvec__min_df': 2,\n",
       " 'cvec__ngram_range': (1, 3)}"
      ]
     },
     "execution_count": 21,
     "metadata": {},
     "output_type": "execute_result"
    }
   ],
   "source": [
    "# Specifically list out best parameters used \n",
    "gs1.best_params_"
   ]
  },
  {
   "cell_type": "code",
   "execution_count": 22,
   "metadata": {},
   "outputs": [],
   "source": [
    "# Set our best estimator as a model\n",
    "gs_model1 = gs1.best_estimator_"
   ]
  },
  {
   "cell_type": "code",
   "execution_count": 23,
   "metadata": {},
   "outputs": [
    {
     "data": {
      "text/plain": [
       "0.9935012185215272"
      ]
     },
     "execution_count": 23,
     "metadata": {},
     "output_type": "execute_result"
    }
   ],
   "source": [
    "# run .score on the Training Data\n",
    "gs_model1.score(X_train, y_train)"
   ]
  },
  {
   "cell_type": "code",
   "execution_count": 24,
   "metadata": {},
   "outputs": [
    {
     "data": {
      "text/plain": [
       "0.8878960194963444"
      ]
     },
     "execution_count": 24,
     "metadata": {},
     "output_type": "execute_result"
    }
   ],
   "source": [
    "# run the .score on the Testing Data\n",
    "gs_model1.score(X_test, y_test)"
   ]
  },
  {
   "cell_type": "code",
   "execution_count": 25,
   "metadata": {},
   "outputs": [],
   "source": [
    "# get our predicted y values from the testing data\n",
    "y_pred = gs_model1.predict(X_test)"
   ]
  },
  {
   "cell_type": "markdown",
   "metadata": {},
   "source": [
    "## Confusion Matrix for 1st Model"
   ]
  },
  {
   "cell_type": "code",
   "execution_count": 57,
   "metadata": {},
   "outputs": [
    {
     "data": {
      "text/plain": [
       "array([[543,  58],\n",
       "       [ 80, 550]])"
      ]
     },
     "execution_count": 57,
     "metadata": {},
     "output_type": "execute_result"
    }
   ],
   "source": [
    "# setup confusion matrix \n",
    "cm = confusion_matrix(y_test,y_pred)\n",
    "cm"
   ]
  },
  {
   "cell_type": "code",
   "execution_count": 58,
   "metadata": {},
   "outputs": [
    {
     "data": {
      "image/png": "[encoded data removed]",
      "text/plain": [
       "<Figure size 432x288 with 2 Axes>"
      ]
     },
     "metadata": {
      "needs_background": "light"
     },
     "output_type": "display_data"
    }
   ],
   "source": [
    "# run plot_confusion_matrix to visualize matrix\n",
    "plot_confusion_matrix(\n",
    "    gs_model1,\n",
    "    X_test,\n",
    "    y_test,\n",
    "    values_format='2g'\n",
    ");"
   ]
  },
  {
   "cell_type": "code",
   "execution_count": 115,
   "metadata": {},
   "outputs": [
    {
     "name": "stdout",
     "output_type": "stream",
     "text": [
      " true neg 543, false pos 58, false neg 80, true pos 550\n"
     ]
    }
   ],
   "source": [
    "# Print results of confusion matrix\n",
    "tn, fp, fn, tp = confusion_matrix(y_test, y_pred).ravel()\n",
    "print(f' true neg {tn}, false pos {fp}, false neg {fn}, true pos {tp}')"
   ]
  },
  {
   "cell_type": "code",
   "execution_count": 116,
   "metadata": {},
   "outputs": [
    {
     "name": "stdout",
     "output_type": "stream",
     "text": [
      "My Accuracy Rate is 88.79%\n",
      "My Misclassification Rate is 11.200000000000001%\n",
      "My Recall Rate is 87.3%\n",
      "My Specificity Rate is 90.35%\n",
      "My Precision Rate is 90.5%\n"
     ]
    }
   ],
   "source": [
    "# Accuracy is True Predictions over total attempts\n",
    "accuracy = (tn+tp)/(fp+tp+tn+fn)\n",
    "misclass = 1 - accuracy\n",
    "recall = tp / (tp+fn)\n",
    "spec = tn / (tn+fp)\n",
    "prec = tp / (tp + fp)\n",
    "print(f'My Accuracy Rate is {round(accuracy,4) * 100}%')\n",
    "print(f'My Misclassification Rate is {round(misclass,3) * 100}%')\n",
    "print(f'My Recall Rate is {round(recall,3) * 100}%')\n",
    "print(f'My Specificity Rate is {round(spec,4) * 100}%')\n",
    "print(f'My Precision Rate is {round(prec,3) * 100}%')"
   ]
  },
  {
   "cell_type": "markdown",
   "metadata": {},
   "source": [
    "We are able to predict with nearly 89% accuracy the correct source of the reddit posts. "
   ]
  },
  {
   "cell_type": "markdown",
   "metadata": {},
   "source": [
    "# TFIDF PIPE"
   ]
  },
  {
   "cell_type": "code",
   "execution_count": 29,
   "metadata": {},
   "outputs": [],
   "source": [
    "# Here we will setup a second pipeline, with parameter list for iteration, and the gridsearch\n",
    "pipe2 = Pipeline([\n",
    "    ('tvec' , TfidfVectorizer()),\n",
    "    ('lr' , LogisticRegression())\n",
    "])\n",
    "\n",
    "pipe2_params = {\n",
    "#     'cvec__stop_words' : english,\n",
    "    'tvec__max_features' : [50, 100, 150],\n",
    "    'tvec__min_df' : [3, 4,5],\n",
    "    'tvec__max_df' : [.2, .3, .4],\n",
    "    'tvec__norm' : ['l2'],\n",
    "    'tvec__ngram_range' : [(1, 1)]}\n",
    "\n",
    "gs2 = GridSearchCV(pipe2, \n",
    "                  pipe2_params, \n",
    "                  cv = 5\n",
    "                 ) "
   ]
  },
  {
   "cell_type": "code",
   "execution_count": 30,
   "metadata": {},
   "outputs": [
    {
     "data": {
      "text/plain": [
       "GridSearchCV(cv=5, error_score=nan,\n",
       "             estimator=Pipeline(memory=None,\n",
       "                                steps=[('tvec',\n",
       "                                        TfidfVectorizer(analyzer='word',\n",
       "                                                        binary=False,\n",
       "                                                        decode_error='strict',\n",
       "                                                        dtype=<class 'numpy.float64'>,\n",
       "                                                        encoding='utf-8',\n",
       "                                                        input='content',\n",
       "                                                        lowercase=True,\n",
       "                                                        max_df=1.0,\n",
       "                                                        max_features=None,\n",
       "                                                        min_df=1,\n",
       "                                                        ngram_range=(1, 1),\n",
       "                                                        norm='l2',\n",
       "                                                        preprocessor=None,\n",
       "                                                        smooth_idf=True,\n",
       "                                                        stop_words=None,\n",
       "                                                        strip_acce...\n",
       "                                                           penalty='l2',\n",
       "                                                           random_state=None,\n",
       "                                                           solver='lbfgs',\n",
       "                                                           tol=0.0001,\n",
       "                                                           verbose=0,\n",
       "                                                           warm_start=False))],\n",
       "                                verbose=False),\n",
       "             iid='deprecated', n_jobs=None,\n",
       "             param_grid={'tvec__max_df': [0.2, 0.3, 0.4],\n",
       "                         'tvec__max_features': [50, 100, 150],\n",
       "                         'tvec__min_df': [3, 4, 5],\n",
       "                         'tvec__ngram_range': [(1, 1)], 'tvec__norm': ['l2']},\n",
       "             pre_dispatch='2*n_jobs', refit=True, return_train_score=False,\n",
       "             scoring=None, verbose=0)"
      ]
     },
     "execution_count": 30,
     "metadata": {},
     "output_type": "execute_result"
    }
   ],
   "source": [
    "# Fit the second gridsearch with the same training data\n",
    "gs2.fit(X_train,y_train)"
   ]
  },
  {
   "cell_type": "code",
   "execution_count": 31,
   "metadata": {},
   "outputs": [
    {
     "data": {
      "text/plain": [
       "0.8759856394233767"
      ]
     },
     "execution_count": 31,
     "metadata": {},
     "output_type": "execute_result"
    }
   ],
   "source": [
    "# Find the best score for the second pipeline\n",
    "gs2.best_score_"
   ]
  },
  {
   "cell_type": "code",
   "execution_count": 32,
   "metadata": {},
   "outputs": [
    {
     "data": {
      "text/plain": [
       "Pipeline(memory=None,\n",
       "         steps=[('tvec',\n",
       "                 TfidfVectorizer(analyzer='word', binary=False,\n",
       "                                 decode_error='strict',\n",
       "                                 dtype=<class 'numpy.float64'>,\n",
       "                                 encoding='utf-8', input='content',\n",
       "                                 lowercase=True, max_df=0.2, max_features=150,\n",
       "                                 min_df=3, ngram_range=(1, 1), norm='l2',\n",
       "                                 preprocessor=None, smooth_idf=True,\n",
       "                                 stop_words=None, strip_accents=None,\n",
       "                                 sublinear_tf=False,\n",
       "                                 token_pattern='(?u)\\\\b\\\\w\\\\w+\\\\b',\n",
       "                                 tokenizer=None, use_idf=True,\n",
       "                                 vocabulary=None)),\n",
       "                ('lr',\n",
       "                 LogisticRegression(C=1.0, class_weight=None, dual=False,\n",
       "                                    fit_intercept=True, intercept_scaling=1,\n",
       "                                    l1_ratio=None, max_iter=100,\n",
       "                                    multi_class='auto', n_jobs=None,\n",
       "                                    penalty='l2', random_state=None,\n",
       "                                    solver='lbfgs', tol=0.0001, verbose=0,\n",
       "                                    warm_start=False))],\n",
       "         verbose=False)"
      ]
     },
     "execution_count": 32,
     "metadata": {},
     "output_type": "execute_result"
    }
   ],
   "source": [
    "# Find the best estimator for the second pipeline\n",
    "gs2.best_estimator_"
   ]
  },
  {
   "cell_type": "code",
   "execution_count": 33,
   "metadata": {},
   "outputs": [
    {
     "data": {
      "text/plain": [
       "{'tvec__max_df': 0.2,\n",
       " 'tvec__max_features': 150,\n",
       " 'tvec__min_df': 3,\n",
       " 'tvec__ngram_range': (1, 1),\n",
       " 'tvec__norm': 'l2'}"
      ]
     },
     "execution_count": 33,
     "metadata": {},
     "output_type": "execute_result"
    }
   ],
   "source": [
    "#get the best parameters for the second pipeline\n",
    "gs2.best_params_"
   ]
  },
  {
   "cell_type": "code",
   "execution_count": 34,
   "metadata": {},
   "outputs": [
    {
     "name": "stdout",
     "output_type": "stream",
     "text": [
      "train score: 0.8911454102355808\n",
      "test score: 0.8708367181153533\n"
     ]
    }
   ],
   "source": [
    "# Set best estimator to a second model and evaluate training and testing scores.\n",
    "gs_model2 = gs2.best_estimator_\n",
    "\n",
    "print(f'train score: {gs_model2.score(X_train, y_train)}')\n",
    "\n",
    "print(f'test score: {gs_model2.score(X_test, y_test)}')"
   ]
  },
  {
   "cell_type": "code",
   "execution_count": 35,
   "metadata": {},
   "outputs": [],
   "source": [
    "# get the second set of prediction y values for X_test set\n",
    "y_pred2 = gs_model2.predict(X_test)"
   ]
  },
  {
   "cell_type": "markdown",
   "metadata": {},
   "source": [
    "## TfiDf Confusion Matrix"
   ]
  },
  {
   "cell_type": "code",
   "execution_count": 36,
   "metadata": {},
   "outputs": [
    {
     "data": {
      "image/png": "[encoded data removed]",
      "text/plain": [
       "<Figure size 432x288 with 2 Axes>"
      ]
     },
     "metadata": {
      "needs_background": "light"
     },
     "output_type": "display_data"
    }
   ],
   "source": [
    "plot_confusion_matrix(\n",
    "    gs_model2,\n",
    "    X_test,\n",
    "    y_test,\n",
    "    cmap='bone',\n",
    "    \n",
    "    values_format='2g'\n",
    ");"
   ]
  },
  {
   "cell_type": "code",
   "execution_count": 37,
   "metadata": {},
   "outputs": [
    {
     "name": "stdout",
     "output_type": "stream",
     "text": [
      " true neg 528, false pos 73, false neg 86, true pos 544\n"
     ]
    }
   ],
   "source": [
    "#Print out Confusion Matrix results\n",
    "tn, fp, fn, tp = confusion_matrix(y_test, y_pred2).ravel()\n",
    "print(f' true neg {tn}, false pos {fp}, false neg {fn}, true pos {tp}')"
   ]
  },
  {
   "cell_type": "code",
   "execution_count": 38,
   "metadata": {},
   "outputs": [
    {
     "name": "stdout",
     "output_type": "stream",
     "text": [
      "My Accuracy Rate is 87.08%\n",
      "My Misclassification Rate is 12.9%\n",
      "My Recall Rate is 86.3%\n",
      "My Specificity Rate is 87.85%\n",
      "My Precision Rate is 88.2%\n"
     ]
    }
   ],
   "source": [
    "# Accuracy is True Predictions over total attempts\n",
    "accuracy = (tn+tp)/(fp+tp+tn+fn)\n",
    "misclass = 1 - accuracy\n",
    "recall = tp / (tp+fn)\n",
    "spec = tn / (tn+fp)\n",
    "prec = tp / (tp + fp)\n",
    "print(f'My Accuracy Rate is {round(accuracy,4) * 100}%')\n",
    "print(f'My Misclassification Rate is {round(misclass,3) * 100}%')\n",
    "print(f'My Recall Rate is {round(recall,3) * 100}%')\n",
    "print(f'My Specificity Rate is {round(spec,4) * 100}%')\n",
    "print(f'My Precision Rate is {round(prec,3) * 100}%')"
   ]
  },
  {
   "cell_type": "code",
   "execution_count": 96,
   "metadata": {},
   "outputs": [],
   "source": [
    "# Produce DataFrame with columns for each word in TfidVectorizer to create word occurance visualizations\n",
    "\n",
    "tvec = TfidfVectorizer(\n",
    "    max_df=0.2,\n",
    "    max_features=150,\n",
    "#     tokenizer=word_tokenize,\n",
    "    min_df=5,\n",
    "    ngram_range=(1, 1),\n",
    "    norm='l2',\n",
    "    stop_words=['your','which','when','we','want','ve','their','by','com','www','https','into','stock']\n",
    ")\n",
    "\n",
    "df_tvec = pd.DataFrame(tvec.fit_transform(X_train).toarray(),\n",
    "                  columns=tvec.get_feature_names())\n",
    "\n",
    "sub1_td = pd.DataFrame(tvec.transform(df_sub1['selftext']).toarray(),\n",
    "                  columns=tvec.get_feature_names())\n",
    "\n",
    "sub2_td = pd.DataFrame(tvec.transform(df_sub2['selftext']).toarray(),\n",
    "                  columns=tvec.get_feature_names())"
   ]
  },
  {
   "cell_type": "code",
   "execution_count": 113,
   "metadata": {},
   "outputs": [
    {
     "data": {
      "image/png": "[encoded data removed]",
      "text/plain": [
       "<Figure size 864x864 with 1 Axes>"
      ]
     },
     "metadata": {
      "needs_background": "light"
     },
     "output_type": "display_data"
    }
   ],
   "source": [
    "# Plot top occuring words used in both subreddits\n",
    "plt.figure(figsize=(12,12))\n",
    "plt.title('Top 10 Most Occuring Words',fontsize=20)\n",
    "plt.grid(b=True, axis='x')\n",
    "plt.ylabel('Keyword', fontsize=20)\n",
    "plt.xlabel('# of Occurances', fontsize=20)\n",
    "plt.xticks(fontsize=14)\n",
    "plt.yticks(fontsize=14)\n",
    "plt.barh(df_tvec.loc[:, (df_tvec.sum(axis=0) > 114)].columns\n",
    "        ,df_tvec.loc[:, (df_tvec.sum(axis=0) > 114)].sum().sort_values()\n",
    "         , color='#C0C0C0'\n",
    "       );\n"
   ]
  },
  {
   "cell_type": "code",
   "execution_count": 109,
   "metadata": {},
   "outputs": [
    {
     "data": {
      "image/png": "[encoded data removed]",
      "text/plain": [
       "<Figure size 864x864 with 1 Axes>"
      ]
     },
     "metadata": {
      "needs_background": "light"
     },
     "output_type": "display_data"
    }
   ],
   "source": [
    "# plot top words occuring in the first subreddit\n",
    "plt.figure(figsize=(12,12))\n",
    "plt.title('r/personalfinance Words Occuring More Than 40 Times',fontsize=20)\n",
    "plt.grid(b=True, axis='x')\n",
    "plt.ylabel('Keyword', fontsize=14)\n",
    "plt.xlabel('# of Occurances', fontsize=14)\n",
    "\n",
    "plt.barh(sub1_td.loc[:, (sub1_td.sum(axis=0) > 80)].columns\n",
    "        ,sub1_td.loc[:, (sub1_td.sum(axis=0) > 80)].sum().sort_values()\n",
    "         , color='#D4AF37'\n",
    "       );"
   ]
  },
  {
   "cell_type": "code",
   "execution_count": 108,
   "metadata": {},
   "outputs": [
    {
     "data": {
      "image/png": "[encoded data removed]",
      "text/plain": [
       "<Figure size 864x864 with 1 Axes>"
      ]
     },
     "metadata": {
      "needs_background": "light"
     },
     "output_type": "display_data"
    }
   ],
   "source": [
    "# plot top words occuring in the second subreddit\n",
    "\n",
    "plt.figure(figsize=(12,12))\n",
    "plt.title('r/investing Words Occuring More Than 40 Times',fontsize=20)\n",
    "plt.grid(b=True, axis='x')\n",
    "plt.ylabel('Keyword', fontsize=14)\n",
    "plt.xlabel('# of Occurances', fontsize=14)\n",
    "\n",
    "plt.barh(sub2_td.loc[:, (sub2_td.sum(axis=0) > 80)].columns\n",
    "        ,sub2_td.loc[:, (sub2_td.sum(axis=0) > 80)].sum().sort_values()\n",
    "         , color='#85bb65'\n",
    "       );"
   ]
  },
  {
   "cell_type": "markdown",
   "metadata": {},
   "source": [
    "# Naîve Bayes"
   ]
  },
  {
   "cell_type": "code",
   "execution_count": 46,
   "metadata": {},
   "outputs": [
    {
     "name": "stdout",
     "output_type": "stream",
     "text": [
      "Naive Bayes Train Score: 0.9111833197942053\n",
      "Naive Bayes Test Score: 0.8887083671811535\n"
     ]
    }
   ],
   "source": [
    "# Instantiate Count Vectorizer with same best_params from above\n",
    "cv = CountVectorizer(max_df=0.85,max_features=3000,min_df=2,ngram_range=(1, 2))\n",
    "\n",
    "#refit new CountVectorizer with X_train and transform X_train and X_Test for use with Naive Bayes Model\n",
    "X_train_cv = cv.fit_transform(X_train)\n",
    "X_test_cv = cv.transform(X_test)\n",
    "\n",
    "#tranform corpus\n",
    "X_train_cv = X_train_cv.toarray()\n",
    "X_test_cv = X_test_cv.toarray()\n",
    "\n",
    "#Instantiate Naive Bayes Multinomial Model\n",
    "nbayes = MultinomialNB()\n",
    "nbayes.fit(X_train_cv, y_train)\n",
    "\n",
    "# Print the Train and Test scores\n",
    "print(f'Naive Bayes Train Score: {nbayes.score(X_train_cv,y_train)}')\n",
    "print(f'Naive Bayes Test Score: {nbayes.score(X_test_cv,y_test)}')"
   ]
  },
  {
   "cell_type": "markdown",
   "metadata": {},
   "source": [
    "## Random Forest"
   ]
  },
  {
   "cell_type": "code",
   "execution_count": 54,
   "metadata": {},
   "outputs": [],
   "source": [
    "# Run a random forest to see if it provides a better fit\n",
    "from sklearn.ensemble import RandomForestClassifier, ExtraTreesClassifier\n"
   ]
  },
  {
   "cell_type": "code",
   "execution_count": 52,
   "metadata": {},
   "outputs": [
    {
     "data": {
      "text/plain": [
       "0.8822179683231204"
      ]
     },
     "execution_count": 52,
     "metadata": {},
     "output_type": "execute_result"
    }
   ],
   "source": [
    "rf = RandomForestClassifier().fit(X_train_cv,y_train)\n",
    "cross_val_score(rf,X_train_cv, y_train).mean()"
   ]
  },
  {
   "cell_type": "code",
   "execution_count": 53,
   "metadata": {},
   "outputs": [
    {
     "data": {
      "text/plain": [
       "0.8480991409104375"
      ]
     },
     "execution_count": 53,
     "metadata": {},
     "output_type": "execute_result"
    }
   ],
   "source": [
    "cross_val_score(rf,X_test_cv, y_test).mean()"
   ]
  },
  {
   "cell_type": "markdown",
   "metadata": {},
   "source": [
    "Random Forest is more overfit than Logistic Regression and Naive Bayes"
   ]
  }
 ],
 "metadata": {
  "kernelspec": {
   "display_name": "Python 3",
   "language": "python",
   "name": "python3"
  },
  "language_info": {
   "codemirror_mode": {
    "name": "ipython",
    "version": 3
   },
   "file_extension": ".py",
   "mimetype": "text/x-python",
   "name": "python",
   "nbconvert_exporter": "python",
   "pygments_lexer": "ipython3",
   "version": "3.7.7"
  }
 },
 "nbformat": 4,
 "nbformat_minor": 4
}
